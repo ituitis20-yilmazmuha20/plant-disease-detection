{
 "cells": [
  {
   "cell_type": "code",
   "execution_count": 1,
   "metadata": {},
   "outputs": [
    {
     "name": "stdout",
     "output_type": "stream",
     "text": [
      "Subsets created successfully.\n"
     ]
    }
   ],
   "source": [
    "import os\n",
    "import shutil\n",
    "\n",
    "def create_subset(input_dir, output_dir, num_files=10):\n",
    "    \"\"\"\n",
    "    Copy a subset of files from each category directory in input_dir to output_dir.\n",
    "    Only num_files files are copied from each category.\n",
    "    \"\"\"\n",
    "    if not os.path.exists(output_dir):\n",
    "        os.makedirs(output_dir)\n",
    "\n",
    "    for category in os.listdir(input_dir):\n",
    "        category_path = os.path.join(input_dir, category)\n",
    "        if os.path.isdir(category_path):\n",
    "            output_category_path = os.path.join(output_dir, category)\n",
    "            if not os.path.exists(output_category_path):\n",
    "                os.makedirs(output_category_path)\n",
    "\n",
    "            # Get files and copy a subset\n",
    "            files = [f for f in os.listdir(category_path) if os.path.isfile(os.path.join(category_path, f))]\n",
    "            files = files[:num_files]  # Get only the first num_files files\n",
    "            \n",
    "            for file in files:\n",
    "                src_file_path = os.path.join(category_path, file)\n",
    "                dest_file_path = os.path.join(output_category_path, file)\n",
    "                shutil.copy(src_file_path, dest_file_path)\n",
    "\n",
    "# Define base directories for test and train\n",
    "base_dir = 'merged_resized_pngs_splited'\n",
    "target_dir = 'subset_merged_resized_pngs_splited'\n",
    "test_input_dir = os.path.join(base_dir, 'test')\n",
    "train_input_dir = os.path.join(base_dir, 'train')\n",
    "test_output_dir = os.path.join(target_dir, 'test')\n",
    "train_output_dir = os.path.join(target_dir, 'train')\n",
    "\n",
    "# Create subsets for both test and train directories\n",
    "create_subset(test_input_dir, test_output_dir)\n",
    "create_subset(train_input_dir, train_output_dir)\n",
    "\n",
    "print('Subsets created successfully.')\n"
   ]
  },
  {
   "cell_type": "code",
   "execution_count": null,
   "metadata": {},
   "outputs": [],
   "source": []
  }
 ],
 "metadata": {
  "kernelspec": {
   "display_name": "Python 3",
   "language": "python",
   "name": "python3"
  },
  "language_info": {
   "codemirror_mode": {
    "name": "ipython",
    "version": 3
   },
   "file_extension": ".py",
   "mimetype": "text/x-python",
   "name": "python",
   "nbconvert_exporter": "python",
   "pygments_lexer": "ipython3",
   "version": "3.11.5"
  }
 },
 "nbformat": 4,
 "nbformat_minor": 2
}
