{
 "cells": [
  {
   "cell_type": "code",
   "execution_count": 46,
   "metadata": {},
   "outputs": [],
   "source": [
    "import torch \n",
    "import os\n",
    "from PIL import Image\n",
    "from torchvision import transforms"
   ]
  },
  {
   "cell_type": "code",
   "execution_count": 69,
   "metadata": {},
   "outputs": [],
   "source": [
    "input_base_dir = 'merged'\n",
    "output_base_dir = 'merged_resized_pngs'\n",
    "\"\"\"input_base_dir = 'asd'\n",
    "output_base_dir = 'dsa'\"\"\"\n",
    "new_size = (224, 224)\n",
    "transform = transforms.Compose([\n",
    "    transforms.Resize(new_size)\n",
    "])\n",
    "\n",
    "if not os.path.exists(output_base_dir):\n",
    "    os.makedirs(output_base_dir)"
   ]
  },
  {
   "cell_type": "code",
   "execution_count": 70,
   "metadata": {},
   "outputs": [
    {
     "name": "stdout",
     "output_type": "stream",
     "text": [
      "Error processing merged\\Corn_streak_virus\\streak virus118_.jpg: broken data stream when reading image file\n",
      "Error processing merged\\Corn_streak_virus\\streak virus119_.jpg: cannot identify image file 'merged\\\\Corn_streak_virus\\\\streak virus119_.jpg'\n",
      "Error processing merged\\Corn_streak_virus\\streak virus421_.jpg: broken data stream when reading image file\n",
      "Error processing merged\\Corn_streak_virus\\streak virus422_.jpg: cannot identify image file 'merged\\\\Corn_streak_virus\\\\streak virus422_.jpg'\n",
      "Error processing merged\\Corn_streak_virus\\streak virus485_.jpg: broken data stream when reading image file\n",
      "Error processing merged\\Corn_streak_virus\\streak virus486_.jpg: cannot identify image file 'merged\\\\Corn_streak_virus\\\\streak virus486_.jpg'\n",
      "Error processing merged\\Corn_streak_virus\\streak virus554_.jpg: broken data stream when reading image file\n",
      "Error processing merged\\Corn_streak_virus\\streak virus626_.jpg: broken data stream when reading image file\n",
      "Error processing merged\\Corn_streak_virus\\streak virus627_.jpg: Truncated File Read\n",
      "Error processing merged\\Corn_streak_virus\\streak virus701_.jpg: cannot identify image file 'merged\\\\Corn_streak_virus\\\\streak virus701_.jpg'\n",
      "Error processing merged\\Corn_streak_virus\\streak virus773_.jpg: broken data stream when reading image file\n",
      "Error processing merged\\Corn_streak_virus\\streak virus774_.jpg: cannot identify image file 'merged\\\\Corn_streak_virus\\\\streak virus774_.jpg'\n",
      "Error processing merged\\Corn_streak_virus\\streak virus997_.jpg: broken data stream when reading image file\n",
      "Error processing merged\\Corn_streak_virus\\streak virus998_.jpg: cannot identify image file 'merged\\\\Corn_streak_virus\\\\streak virus998_.jpg'\n",
      "Error processing merged\\Corn__gray_leaf_spot\\leaf spot186_.jpg: broken data stream when reading image file\n",
      "Error processing merged\\Corn__gray_leaf_spot\\leaf spot187_.jpg: cannot identify image file 'merged\\\\Corn__gray_leaf_spot\\\\leaf spot187_.jpg'\n",
      "Error processing merged\\Corn__gray_leaf_spot\\leaf spot271_.jpg: broken data stream when reading image file\n",
      "Error processing merged\\Corn__gray_leaf_spot\\leaf spot272_.jpg: cannot identify image file 'merged\\\\Corn__gray_leaf_spot\\\\leaf spot272_.jpg'\n",
      "Error processing merged\\Corn__gray_leaf_spot\\leaf spot353_.jpg: cannot identify image file 'merged\\\\Corn__gray_leaf_spot\\\\leaf spot353_.jpg'\n",
      "Error processing merged\\Corn__gray_leaf_spot\\leaf spot424_.jpg: broken data stream when reading image file\n",
      "Error processing merged\\Corn__gray_leaf_spot\\leaf spot425_.jpg: cannot identify image file 'merged\\\\Corn__gray_leaf_spot\\\\leaf spot425_.jpg'\n",
      "Error processing merged\\Corn__gray_leaf_spot\\leaf spot496_.jpg: broken data stream when reading image file\n",
      "Error processing merged\\Corn__gray_leaf_spot\\leaf spot497_.jpg: cannot identify image file 'merged\\\\Corn__gray_leaf_spot\\\\leaf spot497_.jpg'\n",
      "Error processing merged\\Corn__gray_leaf_spot\\leaf spot578_.jpg: broken data stream when reading image file\n",
      "Error processing merged\\Corn__gray_leaf_spot\\leaf spot649_.jpg: broken data stream when reading image file\n",
      "Error processing merged\\Corn__gray_leaf_spot\\leaf spot64_.jpg: cannot identify image file 'merged\\\\Corn__gray_leaf_spot\\\\leaf spot64_.jpg'\n",
      "Error processing merged\\Corn__gray_leaf_spot\\leaf spot723_.jpg: broken data stream when reading image file\n",
      "Error processing merged\\Corn__gray_leaf_spot\\leaf spot724_.jpg: cannot identify image file 'merged\\\\Corn__gray_leaf_spot\\\\leaf spot724_.jpg'\n",
      "Error processing merged\\Corn__gray_leaf_spot\\leaf spot798_.jpg: broken data stream when reading image file\n",
      "Error processing merged\\Corn__gray_leaf_spot\\leaf spot799_.jpg: cannot identify image file 'merged\\\\Corn__gray_leaf_spot\\\\leaf spot799_.jpg'\n",
      "Error processing merged\\Corn__gray_leaf_spot\\leaf spot881_.jpg: broken data stream when reading image file\n",
      "Error processing merged\\Corn__gray_leaf_spot\\leaf spot882_.jpg: cannot identify image file 'merged\\\\Corn__gray_leaf_spot\\\\leaf spot882_.jpg'\n",
      "Error processing merged\\Corn__gray_leaf_spot\\leaf spot957_.jpg: broken data stream when reading image file\n",
      "Error processing merged\\Corn__gray_leaf_spot\\leaf spot958_.jpg: cannot identify image file 'merged\\\\Corn__gray_leaf_spot\\\\leaf spot958_.jpg'\n",
      "Error processing merged\\Corn__healthy\\healthy189_.jpg: broken data stream when reading image file\n",
      "Error processing merged\\Corn__healthy\\healthy18_.jpg: cannot identify image file 'merged\\\\Corn__healthy\\\\healthy18_.jpg'\n",
      "Error processing merged\\Corn__healthy\\healthy87_.jpg: broken data stream when reading image file\n",
      "Error processing merged\\Corn__healthy\\healthy88_.jpg: cannot identify image file 'merged\\\\Corn__healthy\\\\healthy88_.jpg'\n",
      "Error processing merged\\Corn__northern_leaf_blight\\leaf blight379_.jpg: broken data stream when reading image file\n",
      "Error processing merged\\Corn__northern_leaf_blight\\leaf blight37_.jpg: cannot identify image file 'merged\\\\Corn__northern_leaf_blight\\\\leaf blight37_.jpg'\n",
      "Error processing merged\\Corn__northern_leaf_blight\\leaf blight452_.jpg: broken data stream when reading image file\n",
      "Error processing merged\\Corn__northern_leaf_blight\\leaf blight453_.jpg: cannot identify image file 'merged\\\\Corn__northern_leaf_blight\\\\leaf blight453_.jpg'\n",
      "Error processing merged\\Corn__northern_leaf_blight\\leaf blight522_.jpg: broken data stream when reading image file\n",
      "Error processing merged\\Corn__northern_leaf_blight\\leaf blight58_.jpg: broken data stream when reading image file\n",
      "Error processing merged\\Corn__northern_leaf_blight\\leaf blight590_.jpg: cannot identify image file 'merged\\\\Corn__northern_leaf_blight\\\\leaf blight590_.jpg'\n",
      "Error processing merged\\Corn__northern_leaf_blight\\leaf blight666_.jpg: broken data stream when reading image file\n",
      "Error processing merged\\Corn__northern_leaf_blight\\leaf blight667_.jpg: cannot identify image file 'merged\\\\Corn__northern_leaf_blight\\\\leaf blight667_.jpg'\n",
      "Error processing merged\\Corn__northern_leaf_blight\\leaf blight745_.jpg: broken data stream when reading image file\n",
      "Error processing merged\\Corn__northern_leaf_blight\\leaf blight746_.jpg: cannot identify image file 'merged\\\\Corn__northern_leaf_blight\\\\leaf blight746_.jpg'\n",
      "Error processing merged\\Corn__northern_leaf_blight\\leaf blight82_.jpg: broken data stream when reading image file\n",
      "Error processing merged\\Corn__northern_leaf_blight\\leaf blight830_.jpg: cannot identify image file 'merged\\\\Corn__northern_leaf_blight\\\\leaf blight830_.jpg'\n",
      "Error processing merged\\Corn__northern_leaf_blight\\leaf blight912_.jpg: broken data stream when reading image file\n",
      "Error processing merged\\Corn__northern_leaf_blight\\leaf blight913_.jpg: cannot identify image file 'merged\\\\Corn__northern_leaf_blight\\\\leaf blight913_.jpg'\n",
      "Error processing merged\\Corn__northern_leaf_blight\\leaf blight98_.jpg: cannot identify image file 'merged\\\\Corn__northern_leaf_blight\\\\leaf blight98_.jpg'\n",
      "Error processing merged\\Tomato__healthy\\healthy442_.jpg: broken data stream when reading image file\n",
      "Error processing merged\\Tomato__healthy\\healthy443_.jpg: Truncated File Read\n",
      "Error processing merged\\Tomato__healthy\\healthy76_.jpg: broken data stream when reading image file\n",
      "Error processing merged\\Tomato__healthy\\healthy77_.jpg: cannot identify image file 'merged\\\\Tomato__healthy\\\\healthy77_.jpg'\n",
      "Error processing merged\\Wheat__brown_rust\\Thumbs.db: cannot identify image file 'merged\\\\Wheat__brown_rust\\\\Thumbs.db'\n"
     ]
    }
   ],
   "source": [
    "for dirpath, dirnames, filenames in os.walk(input_base_dir):\n",
    "    for filename in filenames:\n",
    "        input_path = os.path.join(dirpath, filename)\n",
    "        rel_path = os.path.relpath(dirpath, input_base_dir)\n",
    "        output_dir = os.path.join(output_base_dir, rel_path)\n",
    "        if not os.path.exists(output_dir):\n",
    "            os.makedirs(output_dir)\n",
    "        \n",
    "        try:\n",
    "            image = Image.open(input_path).convert('RGB') \n",
    "            transformed_image = transform(image)\n",
    "\n",
    "            new_filename = filename[:-4] + '.png'\n",
    "            output_path = os.path.join(output_dir, new_filename)\n",
    "            transformed_image.save(output_path)\n",
    "        except Exception as e:\n",
    "            print(f'Error processing {input_path}: {e}')\n",
    "            continue"
   ]
  },
  {
   "cell_type": "code",
   "execution_count": null,
   "metadata": {},
   "outputs": [],
   "source": []
  }
 ],
 "metadata": {
  "kernelspec": {
   "display_name": "Python 3",
   "language": "python",
   "name": "python3"
  },
  "language_info": {
   "codemirror_mode": {
    "name": "ipython",
    "version": 3
   },
   "file_extension": ".py",
   "mimetype": "text/x-python",
   "name": "python",
   "nbconvert_exporter": "python",
   "pygments_lexer": "ipython3",
   "version": "3.11.5"
  }
 },
 "nbformat": 4,
 "nbformat_minor": 2
}
